{
 "cells": [
  {
   "cell_type": "markdown",
   "id": "63177298-41e3-4868-8e19-b7d71c4f78a6",
   "metadata": {},
   "source": [
    "# yfinance Fetcher Version 0.92\n",
    "\n",
    "_A simple notebook for fetching market data from `yfinance`, simply._\n",
    "\n"
   ]
  },
  {
   "cell_type": "markdown",
   "id": "4a775292-46f4-44b8-9ebc-a88148317394",
   "metadata": {},
   "source": [
    "### Information\n",
    "\n",
    "This notebook by default grabs OHLC prices + Volume market data from Yahoo! Finance for the M7 by period (`{T_PERIOD}`)and interval (`{T_INTERVAL}`). \n",
    "\n",
    "To change the tickers or reduce to a single ticker modify the `SYMBOLS` variable (a constant since it is all caps and doesn't change). To change how far back to go change the `T_PERIOD` constant. To change the interval change the `T_INTERVAL` variable. Accepted values are listed below:\n",
    "\n",
    "* `t_PERIOD` - _1d, 5d, 1mo, 3mo, 6mo, 1y, 2y, 5y, 10y, ytd, max_.\n",
    "*  `T_INTERVAL` - _1m, 2m, 5m, 15m, 30m, 60m, 90m, 1h, 1d, 5d, 1wk, 1mo, 3mo_. Intraday data cannot extend past the last 60 days.\n",
    "\n",
    "This script under the Fetch section produces a CSV (Comma Seperated Values) of the data in the folder this notebook is run in without warning."
   ]
  },
  {
   "cell_type": "markdown",
   "id": "1c36d9d2-4419-40a4-8f0d-b44eb85d6637",
   "metadata": {},
   "source": [
    "## Market Data"
   ]
  },
  {
   "cell_type": "markdown",
   "id": "315a730d-889e-4014-937f-e8c1f08669ed",
   "metadata": {},
   "source": [
    "### Initial Imports And Variables/Constants For The _Main Fetch_ Section"
   ]
  },
  {
   "cell_type": "code",
   "execution_count": null,
   "id": "a78af132-ad24-41bf-8a45-5da9757b7fa0",
   "metadata": {},
   "outputs": [],
   "source": [
    "import pandas as pd\n",
    "import yfinance as yf\n",
    "\n",
    "# =============================================================================\n",
    "# Constants\n",
    "# =============================================================================\n",
    "SYMBOLS = 'AAPL', 'AMZN', 'GOOGL', 'META', 'MSFT', 'NVDA', 'TSLA'\n",
    "T_PERIOD = '1d'\n",
    "T_INTERVAL = '1h"
   ]
  },
  {
   "cell_type": "markdown",
   "id": "860e27f4-d5d5-4506-8d6d-a83430dd85ee",
   "metadata": {},
   "source": [
    "### Initial Imports For The _A Collection of Financial Fetches_ Section\n",
    "\n",
    "Do not run this if you have run above. Run this is if you want individual fetches instead of the main fetch."
   ]
  },
  {
   "cell_type": "code",
   "execution_count": null,
   "id": "23b51a09-922b-4da7-8aee-4c78e1171c3e",
   "metadata": {},
   "outputs": [],
   "source": [
    "import pandas as pd\n",
    "import yfinaance as yf"
   ]
  },
  {
   "cell_type": "markdown",
   "id": "b5daea09-b6a8-4ebd-a4ba-a7ae7f8e2c7f",
   "metadata": {},
   "source": [
    "### Main Fetch"
   ]
  },
  {
   "cell_type": "code",
   "execution_count": null,
   "id": "8e56bb25-861d-482a-bf42-3a28d5fcc0df",
   "metadata": {
    "editable": true,
    "slideshow": {
     "slide_type": ""
    },
    "tags": []
   },
   "outputs": [],
   "source": [
    "# =============================================================================\n",
    "# Timestamp\n",
    "# =============================================================================\n",
    "c_datetime = pd.to_datetime('today')\n",
    "c_date = c_datetime.date()\n",
    "\n",
    "# =============================================================================\n",
    "# OHLC + Volumme Price Data\n",
    "# =============================================================================\n",
    "ds_df_index = yf.download(SYMBOLS, group_by='ticker',\n",
    "                          period=f\"{T_PERIOD}\", interval=f\"{T_INTERVAL}\",\n",
    "                          rounding=True)\n",
    "\n",
    "# =============================================================================\n",
    "# The CSV file is exported to the folder this script is run.\n",
    "# =============================================================================\n",
    "ds_df_index.to_csv(\n",
    "    f\"SYMBOLS_INDEX_{T_PERIOD}_{T_INTERVAL}_from_{c_datetime}.csv\")"
   ]
  },
  {
   "cell_type": "markdown",
   "id": "3b13d9d2-ca90-4a29-99a7-24767f868b8f",
   "metadata": {},
   "source": [
    "## A Collection of Financial Fetches"
   ]
  },
  {
   "cell_type": "markdown",
   "id": "69ea6c9f-e7f2-4cae-8eb4-ca22b30681e8",
   "metadata": {},
   "source": [
    "### Initial Variables/Constants"
   ]
  },
  {
   "cell_type": "code",
   "execution_count": null,
   "id": "c2390f98-45a8-4ea8-a7da-934639d140e0",
   "metadata": {},
   "outputs": [],
   "source": [
    "# =============================================================================\n",
    "# Symbol (Ticker) Variables And Constants\n",
    "# =============================================================================\n",
    "FUNDS_SYMBOL = 'SPY'\n",
    "STOCK_SYMBOL = 'TSLA'\n",
    "\n",
    "df_stat_f = yf.Ticker('SPY')\n",
    "df_stat = yf.Ticker('TSLA')"
   ]
  },
  {
   "cell_type": "markdown",
   "id": "bbe26654-e96c-4588-9ae8-9aa0ff57d546",
   "metadata": {},
   "source": [
    "#### Info"
   ]
  },
  {
   "cell_type": "code",
   "execution_count": null,
   "id": "014d7093-36e8-4044-ab47-028a475a5a61",
   "metadata": {},
   "outputs": [],
   "source": [
    "df_stat_i = df_stat.info\n",
    "df_stat_i.to_csv(f\"{STOCK_SYMBOL}-info-{c_datetime}.csv\")"
   ]
  },
  {
   "cell_type": "markdown",
   "id": "fe3e9f53-4db5-4253-a701-60d3b54fe837",
   "metadata": {},
   "source": [
    "#### ISIN (International Securities Identification Number)"
   ]
  },
  {
   "cell_type": "code",
   "execution_count": null,
   "id": "c34e225e-5d93-4337-8019-2f85f0b49575",
   "metadata": {},
   "outputs": [],
   "source": [
    "df_stat_isin = df_stat.isin\n",
    "df_stat_isin.to_csv(f\"{STOCK_SYMBOL}-isin-{c_datetime}.csv\")"
   ]
  },
  {
   "cell_type": "markdown",
   "id": "e401c43c-f5b0-4ad2-a3b2-6e775385ce83",
   "metadata": {},
   "source": [
    "#### Analyst Price Targets"
   ]
  },
  {
   "cell_type": "code",
   "execution_count": null,
   "id": "c7ce690f-ca93-4d1d-a061-e742e0b91825",
   "metadata": {},
   "outputs": [],
   "source": [
    "df_stat_apt = df_stat.analyst_price_targets\n",
    "df_stat_apt.to_csv(f\"{STOCK_SYMBOL}-analyst_price_targets-{c_datetime}.csv\")"
   ]
  },
  {
   "cell_type": "markdown",
   "id": "4b2ef473-9537-491a-8caa-2fcf358938ac",
   "metadata": {},
   "source": [
    "#### Calendar"
   ]
  },
  {
   "cell_type": "code",
   "execution_count": null,
   "id": "3dbcbf55-6d4d-4c28-9ca0-78c72f07d3ff",
   "metadata": {},
   "outputs": [],
   "source": [
    "df_stat_cal = df_stat.calendar\n",
    "df_stat_cal.to_csv(f\"{STOCK_SYMBOL}-cal-{c_datetime}.csv\")"
   ]
  },
  {
   "cell_type": "markdown",
   "id": "31bec8a2-c34f-42de-bf7f-b2d16d19bde8",
   "metadata": {},
   "source": [
    "#### Financials"
   ]
  },
  {
   "cell_type": "code",
   "execution_count": null,
   "id": "7fe9a223-82c2-47ee-80dd-330f013d269b",
   "metadata": {},
   "outputs": [],
   "source": [
    "df_stat_fin = df_stat.financials\n",
    "df_stat_fin.to_csv(f\"{STOCK_SYMBOL}-financials-{c_datetime}.csv\")"
   ]
  },
  {
   "cell_type": "markdown",
   "id": "89b9912e-37b1-4ce7-862f-0d1b394782f3",
   "metadata": {},
   "source": [
    "#### Balance Sheet"
   ]
  },
  {
   "cell_type": "code",
   "execution_count": null,
   "id": "c53aed42-43ca-48b0-a4ad-8b88761e31f4",
   "metadata": {},
   "outputs": [],
   "source": [
    "df_stat_bs = df_stat.balance_sheet\n",
    "df_stat_bs.to_csv(f\"{STOCK_SYMBOL}-balance_sheet-{c_datetime}.csv\")"
   ]
  },
  {
   "cell_type": "markdown",
   "id": "00c5b0d8-c375-4e4d-8375-d04028ed156d",
   "metadata": {},
   "source": [
    "#### Income Statement"
   ]
  },
  {
   "cell_type": "code",
   "execution_count": null,
   "id": "9b37eb18-c1d8-43c1-870c-123fa2103d37",
   "metadata": {},
   "outputs": [],
   "source": [
    "df_stat_stmt = df_stat.income_stmt\n",
    "df_stat_stmt.to_csv(f\"{STOCK_SYMBOL}-income_statement-{c_datetime}.csv\")"
   ]
  },
  {
   "cell_type": "markdown",
   "id": "b7dbfad7-a583-45d9-a9f9-e7b16dfee342",
   "metadata": {},
   "source": [
    "#### Cash Flow"
   ]
  },
  {
   "cell_type": "code",
   "execution_count": null,
   "id": "4ca2b568-d114-4c17-87cd-50699cc2637b",
   "metadata": {},
   "outputs": [],
   "source": [
    "df_stat_cf = df_stat.cash_flow\n",
    "df_stat_cf.to_csv(f\"{STOCK_SYMBOL}-cash_flow-{c_datetime}.csv\")"
   ]
  },
  {
   "cell_type": "markdown",
   "id": "6cd09143-80a2-496f-85a9-a5785a23cb5f",
   "metadata": {},
   "source": [
    "#### EPS Revisions"
   ]
  },
  {
   "cell_type": "code",
   "execution_count": null,
   "id": "6132b298-9a59-4df8-973a-398540ef9f0e",
   "metadata": {},
   "outputs": [],
   "source": [
    "df_stat_e_rv = df_stat.eps_revisions\n",
    "df_stat_e_rv.to_csv(f\"{STOCK_SYMBOL}-eps_revisions-{c_datetime}.csv\")"
   ]
  },
  {
   "cell_type": "markdown",
   "id": "97d30234-9aa4-4dad-9d1c-8783eeedb149",
   "metadata": {},
   "source": [
    "#### EPS Trend"
   ]
  },
  {
   "cell_type": "code",
   "execution_count": null,
   "id": "93f20b9e-0240-4610-9746-f7d1a01075e2",
   "metadata": {},
   "outputs": [],
   "source": [
    "df_stat_et = df_stat.eps_trend\n",
    "df_stat_et.to_csv(f\"{STOCK_SYMBOL}-eps_trend-{c_datetime}.csv\")"
   ]
  },
  {
   "cell_type": "markdown",
   "id": "0bc7ad08-e70b-4d00-98ff-57ae66c4468d",
   "metadata": {},
   "source": [
    "#### SEC Filings"
   ]
  },
  {
   "cell_type": "code",
   "execution_count": null,
   "id": "3da5ddf0-487c-4cf2-9d38-895d67c5d762",
   "metadata": {},
   "outputs": [],
   "source": [
    "df_stat_sf = df_stat.sec_filings\n",
    "df_stat_sf.to_csv(f\"{STOCK_SYMBOL}-sec_filings-{c_datetime}.csv\")"
   ]
  },
  {
   "cell_type": "markdown",
   "id": "476db2aa-9a41-49e5-a1f1-bb3f4fc109c9",
   "metadata": {},
   "source": [
    "#### Insider Transactions"
   ]
  },
  {
   "cell_type": "code",
   "execution_count": null,
   "id": "c8edea47-7480-4a62-a059-2eadefae4bd0",
   "metadata": {},
   "outputs": [],
   "source": [
    "df_stat_ins_t = df_stat.insider_transactions\n",
    "df_stat_ins_t.to_csv(f\"{STOCK_SYMBOL}-insider_transactions-{c_datetime}.csv\")"
   ]
  },
  {
   "cell_type": "markdown",
   "id": "59266c25-2210-48ed-a619-60a4df3e921d",
   "metadata": {},
   "source": [
    "#### Insider Roster Holders"
   ]
  },
  {
   "cell_type": "code",
   "execution_count": null,
   "id": "ebe9fb2e-fecc-4e85-88ef-27b351bf5658",
   "metadata": {},
   "outputs": [],
   "source": [
    "df_stat_irh = df_stat.insider_roster_holders\n",
    "df_stat_rh.to_csv(f\"{STOCK_SYMBOL}-inside_roster_holders-{c_datetime}.csv\")"
   ]
  },
  {
   "cell_type": "markdown",
   "id": "291b0a09-8e7c-40e3-bd2c-1ad34abbf97a",
   "metadata": {},
   "source": [
    "#### Insider Purchases"
   ]
  },
  {
   "cell_type": "code",
   "execution_count": null,
   "id": "3cfafa76-c9e5-4239-b479-a0a99134101a",
   "metadata": {},
   "outputs": [],
   "source": [
    "df_stat_ins_p = df_stat.insider_purchases\n",
    "df_stat_ins_p.to_csv(f\"{STOCK_SYMBOL}-insider_purchases-{c_datetime}.csv\")"
   ]
  },
  {
   "cell_type": "markdown",
   "id": "aeae5310-a3ba-4098-9a33-d14ce3708306",
   "metadata": {},
   "source": [
    "#### Major Holders"
   ]
  },
  {
   "cell_type": "code",
   "execution_count": null,
   "id": "c82b4090-9d9c-46f9-b61e-978bf528b9b3",
   "metadata": {},
   "outputs": [],
   "source": [
    "df_stat_mh = df_stat.major_holders\n",
    "df_stat_mh.to_csv(f\"{STOCK_SYMBOL}-major_holders-{c_datetime}.csv\")"
   ]
  },
  {
   "cell_type": "markdown",
   "id": "b633fb04-9546-4884-a19f-b91f18b330ab",
   "metadata": {},
   "source": [
    "#### Institutional Holders"
   ]
  },
  {
   "cell_type": "code",
   "execution_count": null,
   "id": "89091e7d-f022-4db3-85cf-b432a9688c59",
   "metadata": {},
   "outputs": [],
   "source": [
    "df_stat_ih = df_stat.institutional_holders\n",
    "df_stat_ih.to_csv(f\"{STOCK_SYMBOL}-instituional_holders-{c_datetime}.csv\")"
   ]
  },
  {
   "cell_type": "markdown",
   "id": "cbb6254c-55e7-4690-b6c1-7f332668064a",
   "metadata": {},
   "source": [
    "#### Mutual Fund Holders"
   ]
  },
  {
   "cell_type": "code",
   "execution_count": null,
   "id": "bdf81ac8-5b9b-47b2-aaf8-162440b14739",
   "metadata": {},
   "outputs": [],
   "source": [
    "df_stat_mfh = df_stat.mutualfund_holders\n",
    "df_stat_mfh.to_csv(f\"{STOCK_SYMBOL}-mutualfund_holders-{c_datetime}.csv\")"
   ]
  },
  {
   "cell_type": "markdown",
   "id": "a244d02b-3356-445c-8803-a8367608557f",
   "metadata": {},
   "source": [
    "#### Top Holdings - Funds"
   ]
  },
  {
   "cell_type": "code",
   "execution_count": null,
   "id": "d4d564bb-f1e5-422a-9310-157dfc8ec641",
   "metadata": {},
   "outputs": [],
   "source": [
    "df_stat_th = df_stat_f.top_holdings\n",
    "df_stat_th.to_csv(f\"{FUNDS_SYMBOL}-top_holdings-funds-{c_datetime}.csv\")"
   ]
  },
  {
   "cell_type": "markdown",
   "id": "fcc8c1ec-02de-4151-a33f-ba7002f5cc6b",
   "metadata": {},
   "source": [
    "## /src/yfinance_fetcher.py"
   ]
  },
  {
   "cell_type": "code",
   "execution_count": null,
   "id": "3768c0bf-4bab-4c9a-afb1-f94b0214e2af",
   "metadata": {},
   "outputs": [],
   "source": [
    "#!/usr/bin/env python3\n",
    "# -*- coding: utf-8 -*-\n",
    "\n",
    "import pandas as pd\n",
    "import yfinance as yf\n",
    "\n",
    "# =============================================================================\n",
    "# Constants\n",
    "# =============================================================================\n",
    "SYMBOLS = 'AAPL', 'AMZN', 'GOOGL', 'META', 'MSFT', 'NVDA', 'TSLA'\n",
    "T_PERIOD = '1d'\n",
    "T_INTERVAL = '1h'\n",
    "\n",
    "# =============================================================================\n",
    "# Timestamp\n",
    "# =============================================================================\n",
    "c_datetime = pd.to_datetime('today')\n",
    "c_date = c_datetime.date()\n",
    "\n",
    "# =============================================================================\n",
    "# OHLC + Volumme Price Data\n",
    "# =============================================================================\n",
    "df_index = yf.download(SYMBOLS, group_by='ticker',\n",
    "                       period=f\"{T_PERIOD}\", interval=f\"{T_INTERVAL}\",\n",
    "                       rounding=True)\n",
    "\n",
    "# =============================================================================\n",
    "# The CSV file is exported to the folder this script is run.\n",
    "# =============================================================================\n",
    "df_index.to_csv(\n",
    "    f\"{SYMBOLS}_INDEX_{T_PERIOD}_{T_INTERVAL}_from_{c_datetime}.csv\")\n",
    "\n",
    "# =============================================================================\n",
    "# A Collection Of Financial fetches.\n",
    "# =============================================================================\n",
    "# =============================================================================\n",
    "# Symbol (Ticker) Variables And Constants\n",
    "# =============================================================================\n",
    "FUNDS_SYMBOL = 'SPY'\n",
    "STOCK_SYMBOL = 'TSLA'\n",
    "\n",
    "df_stat_f = yf.Ticker(f\"{FUNDS_SYMBOL}\")\n",
    "df_stat = yf.Ticker(F\"{STOCK_SYMBOL}\")\n",
    "\n",
    "# =============================================================================\n",
    "# Info\n",
    "# =============================================================================\n",
    "df_stat_i = df_stat.info\n",
    "df_stat_i.to_csv(f\"{STOCK_SYMBOL}-info-{c_datetime}.csv\")\n",
    "\n",
    "# =============================================================================\n",
    "# ISIN (International Securities Identification Number)\n",
    "# =============================================================================\n",
    "df_stat_isin = df_stat.isin\n",
    "df_stat_isin.to_csv(f\"{STOCK_SYMBOL}-isin-{c_datetime}.csv\")\n",
    "\n",
    "# =============================================================================\n",
    "# Analyst Price Targets\n",
    "# =============================================================================\n",
    "df_stat_apt = df_stat.analyst_price_targets\n",
    "df_stat_apt.to_csv(f\"{STOCK_SYMBOL}-analyst_price_targets-{c_datetime}.csv\")\n",
    "\n",
    "# =============================================================================\n",
    "# Calendar\n",
    "# =============================================================================\n",
    "df_stat_cal = df_stat.calendar\n",
    "df_stat_cal.to_csv(f\"{STOCK_SYMBOL}-cal-{c_datetime}.csv\")\n",
    "\n",
    "# =============================================================================\n",
    "# Financials\n",
    "# =============================================================================\n",
    "df_stat_fin = df_stat.financials\n",
    "df_stat_fin.to_csv(f\"{STOCK_SYMBOL}-financials-{c_datetime}.csv\")\n",
    "\n",
    "# =============================================================================\n",
    "# Balance Sheet\n",
    "# =============================================================================\n",
    "df_stat_bs = df_stat.balance_sheet\n",
    "df_stat_bs.to_csv(f\"{STOCK_SYMBOL}-balance_sheet-{c_datetime}.csv\")\n",
    "\n",
    "# =============================================================================\n",
    "# Income Statement\n",
    "# =============================================================================\n",
    "df_stat_stmt = df_stat.income_stmt\n",
    "df_stat_stmt.to_csv(f\"{STOCK_SYMBOL}-income_statement-{c_datetime}.csv\")\n",
    "\n",
    "# =============================================================================\n",
    "# Cash Flow\n",
    "# =============================================================================\n",
    "df_stat_cf = df_stat.cash_flow\n",
    "df_stat_cf.to_csv(f\"{STOCK_SYMBOL}-cash_flow-{c_datetime}.csv\")\n",
    "\n",
    "# =============================================================================\n",
    "# EPS Revisions\n",
    "# =============================================================================\n",
    "df_stat_e_rv = df_stat.eps_revisions\n",
    "df_stat_e_rv.to_csv(f\"{STOCK_SYMBOL}-eps_revisions-{c_datetime}.csv\")\n",
    "\n",
    "# =============================================================================\n",
    "# EPS Trend\n",
    "# =============================================================================\n",
    "df_stat_et = df_stat.eps_trend\n",
    "df_stat_et.to_csv(f\"{STOCK_SYMBOL}-eps_trend-{c_datetime}.csv\")\n",
    "\n",
    "# =============================================================================\n",
    "# SEC Filings\n",
    "# =============================================================================\n",
    "df_stat_sf = df_stat.sec_filings\n",
    "df_stat_sf.to_csv(f\"{STOCK_SYMBOL}-sec_filings-{c_datetime}.csv\")\n",
    "\n",
    "# =============================================================================\n",
    "# Insider Transactions\n",
    "# =============================================================================\n",
    "df_stat_ins_t = df_stat.insider_transactions\n",
    "df_stat_ins_t.to_csv(f\"{STOCK_SYMBOL}-insider_transactions-{c_datetime}.csv\")\n",
    "\n",
    "# =============================================================================\n",
    "# Insider Roster Holders\n",
    "# =============================================================================\n",
    "df_stat_rh = df_stat.insider_roster_holders\n",
    "df_stat_rh.to_csv(f\"{STOCK_SYMBOL}-inside_roster_holders-{c_datetime}.csv\")\n",
    "\n",
    "# =============================================================================\n",
    "# Insider Pruchases\n",
    "# =============================================================================\n",
    "df_stat_ins_p = df_stat.insider_purchases\n",
    "df_stat_ins_p.to_csv(f\"{STOCK_SYMBOL}-insider_purchases-{c_datetime}.csv\")\n",
    "\n",
    "# =============================================================================\n",
    "# Major Holders\n",
    "# =============================================================================\n",
    "df_stat_mh = df_stat.major_holders\n",
    "df_stat_mh.to_csv(f\"{STOCK_SYMBOL}-major_holders-{c_datetime}.csv\")\n",
    "\n",
    "# =============================================================================\n",
    "# Institutional Holders\n",
    "# =============================================================================\n",
    "df_stat_ih = df_stat.institutional_holders\n",
    "df_stat_ih.to_csv(f\"{STOCK_SYMBOL}-instituional_holders-{c_datetime}.csv\")\n",
    "\n",
    "# =============================================================================\n",
    "# Mutual Fund Holders\n",
    "# =============================================================================\n",
    "df_stat_mfh = df_stat.mutualfund_holders\n",
    "df_stat_mfh.to_csv(f\"{STOCK_SYMBOL}-mutualfund_holders-{c_datetime}.csv\")\n",
    "\n",
    "# =============================================================================\n",
    "# Top Holdings -Funds\n",
    "# =============================================================================\n",
    "df_stat_th = df_stat_f.top_holdings\n",
    "df_stat_th.to_csv(f\"{FUNDS_SYMBOL}-top_holdings-funds-{c_datetime}.csv\")\n"
   ]
  }
 ],
 "metadata": {
  "kernelspec": {
   "display_name": "Python 3 (ipykernel)",
   "language": "python",
   "name": "python3"
  },
  "language_info": {
   "codemirror_mode": {
    "name": "ipython",
    "version": 3
   },
   "file_extension": ".py",
   "mimetype": "text/x-python",
   "name": "python",
   "nbconvert_exporter": "python",
   "pygments_lexer": "ipython3",
   "version": "3.12.2"
  },
  "widgets": {
   "application/vnd.jupyter.widget-state+json": {
    "state": {},
    "version_major": 2,
    "version_minor": 0
   }
  }
 },
 "nbformat": 4,
 "nbformat_minor": 5
}
