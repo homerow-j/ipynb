{
 "cells": [
  {
   "cell_type": "markdown",
   "id": "63177298-41e3-4868-8e19-b7d71c4f78a6",
   "metadata": {},
   "source": [
    "# yfinance Fetcher\n",
    "\n",
    "_A simple notebook for fetching market data from `yfinance`, simply._\n",
    "\n"
   ]
  },
  {
   "cell_type": "markdown",
   "id": "4a775292-46f4-44b8-9ebc-a88148317394",
   "metadata": {},
   "source": [
    "### Information\n",
    "\n",
    "This notebook grabs OHLC prices + Volume market data from Yahoo! Finance for the M7 by period (`{T_PERIOD}`)and interval (`{T_INTERVAL}`). \n",
    "\n",
    "To change the tickers or reduce to a single ticker modify the `M7_SYMBOLS` variable (a constant since it is all caps and doesn't change). To change how far back to go change the `T_PERIOD` constant. To change the interval change the `T_INTERVAL` variable. Accepted values are listed below:\n",
    "\n",
    "* `t_PERIOD` - _1d, 5d, 1mo, 3mo, 6mo, 1y, 2y, 5y, 10y, ytd, max_.\n",
    "*  `T_INTERVAL` - _1m, 2m, 5m, 15m, 30m, 60m, 90m, 1h, 1d, 5d, 1wk, 1mo, 3mo_. Intraday data cannot extend past the last 60 days.\n",
    "\n",
    "This script produces a CSV (Comma Seperated Values) of the data in the folder this notebook is run in without warning."
   ]
  },
  {
   "cell_type": "markdown",
   "id": "1c36d9d2-4419-40a4-8f0d-b44eb85d6637",
   "metadata": {},
   "source": [
    "## Market Data"
   ]
  },
  {
   "cell_type": "code",
   "execution_count": 8,
   "id": "8e56bb25-861d-482a-bf42-3a28d5fcc0df",
   "metadata": {
    "editable": true,
    "slideshow": {
     "slide_type": ""
    },
    "tags": []
   },
   "outputs": [
    {
     "name": "stderr",
     "output_type": "stream",
     "text": [
      "[*********************100%***********************]  7 of 7 completed"
     ]
    },
    {
     "name": "stdout",
     "output_type": "stream",
     "text": [
      "This notebook was last calculated on 2025-05-04 02:36:15.859867\n"
     ]
    },
    {
     "name": "stderr",
     "output_type": "stream",
     "text": [
      "\n"
     ]
    }
   ],
   "source": [
    "import pandas as pd\n",
    "import yfinance as yf\n",
    "\n",
    "M7_SYMBOLS = 'AAPL', 'AMZN', 'GOOGL', 'META', 'MSFT', 'NVDA', 'TSLA'\n",
    "T_PERIOD = '5d'\n",
    "T_INTERVAL = '5m'\n",
    "\n",
    "\n",
    "def get_timestamp():\n",
    "    c_datetime_o = pd.to_datetime('today')\n",
    "    return c_datetime_o\n",
    "\n",
    "\n",
    "c_datetime = get_timestamp()\n",
    "\n",
    "\n",
    "def get_date():\n",
    "    c_date_o = c_datetime.date()\n",
    "    return c_date_o\n",
    "\n",
    "\n",
    "c_date = get_date()\n",
    "\n",
    "\n",
    "def fetch_data():\n",
    "    ds_df_index_o = yf.download(M7_SYMBOLS, group_by='ticker',\n",
    "                                period=f\"{T_PERIOD}\", interval=f\"{T_INTERVAL}\",\n",
    "                                rounding=True)\n",
    "    return ds_df_index_o\n",
    "\n",
    "\n",
    "ds_df_index = fetch_data()\n",
    "\n",
    "\n",
    "def export_csv():\n",
    "    ds_df_index.to_csv(\n",
    "        f\"M7_SYMBOLS_{T_PERIOD}_{T_INTERVAL}_from_{c_datetime}.csv\")\n",
    "\n",
    "\n",
    "export_csv()\n",
    "\n",
    "print(f\"This notebook was last calculated on {c_datetime}\")"
   ]
  },
  {
   "cell_type": "code",
   "execution_count": null,
   "id": "55d4ddbc-cd7e-459f-92a3-7a97d9653297",
   "metadata": {},
   "outputs": [],
   "source": []
  }
 ],
 "metadata": {
  "kernelspec": {
   "display_name": "Python 3 (ipykernel)",
   "language": "python",
   "name": "python3"
  },
  "language_info": {
   "codemirror_mode": {
    "name": "ipython",
    "version": 3
   },
   "file_extension": ".py",
   "mimetype": "text/x-python",
   "name": "python",
   "nbconvert_exporter": "python",
   "pygments_lexer": "ipython3",
   "version": "3.12.2"
  },
  "widgets": {
   "application/vnd.jupyter.widget-state+json": {
    "state": {},
    "version_major": 2,
    "version_minor": 0
   }
  }
 },
 "nbformat": 4,
 "nbformat_minor": 5
}
