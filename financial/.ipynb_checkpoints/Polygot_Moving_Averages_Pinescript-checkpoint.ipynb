{
 "cells": [
  {
   "cell_type": "markdown",
   "id": "2b12ebd5-cfaa-4e52-956f-c0089c90cf43",
   "metadata": {},
   "source": [
    "# Polygot Moving Averages\n",
    "\n",
    "## Description\n",
    "\n",
    "This is essentially a source merger of Bollinger Bands by Trading View and Simple Moving Averages by stoxxinbox. My additions and subtractions are minimal. There is the BB MA, which I default at 5d, and the other 4 averages are the standard 21, 50, 100, 200, day moving averages. I default the averaging method to WMA (Weighted Moving Average). The method of averaging can be changed as also can the lengths of the inputs to match user preferences. This is what I wanted for an indicator and didn't find.\n",
    "\n",
    "## Usage\n",
    "\n",
    "The same as you would use any other BB or MA indicator. The benefit of this one is that it has 4 MAs, one MA with the Bollinger Bands attached, and the colours adjusted to be easy on the eyes when using high contrast themes, to be discernible yet sit quietly in the background with lines and candle sticks everywhere shouting for attention. I use it as a base first indicator which I can hide easily (imagine hiding five MA indicators individually constantly) when the more serious indicators come into play.\n",
    "\n",
    "##### Source: https://www.tradingview.com/script/3vZk2XQO-Polygot-Moving-Averages/"
   ]
  },
  {
   "cell_type": "code",
   "execution_count": null,
   "id": "d4a51649-6c19-46f0-9ac6-f7cc21fd5f11",
   "metadata": {},
   "outputs": [],
   "source": [
    "// This Pine Script® code is subject to the terms of the Mozilla Public License 2.0 at https://mozilla.org/MPL/2.0/\n",
    "// © homerow_j, and the Trading View community I copied, mnodified and learnt from.\n",
    "//@version=6\n",
    "// Taken from the indicator sources of Bollinger Bands by Trading View and Simple Moving Averages by stoxxinbox, and\n",
    "// modified (cut, copied, merged with a few changes) by homerow_j. \n",
    "\n",
    "indicator(\"Polygot Moving Averages\", shorttitle=\"PMA\", overlay=true, timeframe=\"\", timeframe_gaps=true)\n",
    "length = input.int(5, minval=1)\n",
    "src = input(close, title=\"Source\")\n",
    "mult = input.float(1.5, minval=0.001, maxval=50, title=\"StdDev\")\n",
    "maType = input.string(\"WMA\", \"Moving Average Type\", options = [\"SMA\", \"EMA\", \"SMMA (RMA)\", \"WMA\", \"VWMA\"])\n",
    "\n",
    "ma(source, length, _type) =>\n",
    "    switch _type\n",
    "        \"SMA\" => ta.sma(source, length)\n",
    "        \"EMA\" => ta.ema(source, length)\n",
    "        \"SMMA (RMA)\" => ta.rma(source, length)\n",
    "        \"WMA\" => ta.wma(source, length)\n",
    "        \"VWMA\" => ta.vwma(source, length)\n",
    "\n",
    "dev = mult * ta.stdev(src, length)\n",
    "offset = input.int(0, \"Offset\", minval = -500, maxval = 500, display = display.data_window)\n",
    "\n",
    "len1 = input.int(5, minval=1, title=\"BB MA Length\")\n",
    "src1 = input(close, title=\"BB MA Source\")\n",
    "out1 = ma(src1, len1, maType)\n",
    "upper = out1 + dev\n",
    "lower = out1 - dev\n",
    "plot(out1, title=\"BB MA\", color=#5e81ac)\n",
    "p1 = plot(upper, \"BB Upper\", color=#8fbcbb, offset = offset)\n",
    "p2 = plot(lower, \"BB Lower\", color=#88c0d0, offset = offset)\n",
    "fill(p1, p2, title = \"BB Fill Colour\", color=color.rgb(53.3, 75.3, 81.6, 75))\n",
    "\n",
    "len2 = input.int(21, minval=1, title=\"21d MA Length\")\n",
    "src2 = input(close, title=\"21d MA Source\")\n",
    "out2 = ma(src2, len2, maType)\n",
    "plot(out2, title=\"21d MA\", color=#a3b38c)\n",
    "\n",
    "len3 = input.int(50, minval=1, title=\"50d MA Length\")\n",
    "src3 = input(close, title=\"50d MA Source\")\n",
    "out3 = ma(src3, len3, maType)\n",
    "plot(out3, title=\"50d MA\", color=#b48ead)\n",
    "\n",
    "len4 = input.int(100, minval=1, title=\"100d MA Length\")\n",
    "src4 = input(close, title=\"100d MA Source\")\n",
    "out4 = ma(src4, len4, maType)\n",
    "plot(out4, title=\"100d MA\", color=#d08770) \n",
    "\n",
    "len5 = input.int(200, minval=1, title=\"200d MA Length\")\n",
    "src5 = input(close, title=\"200d MA Source\")\n",
    "out5 = ma(src5, len5, maType)\n",
    "plot(out5, title=\"200d MA\", color=#ebcb8b)"
   ]
  }
 ],
 "metadata": {
  "kernelspec": {
   "display_name": "Python 3 (ipykernel)",
   "language": "python",
   "name": "python3"
  },
  "language_info": {
   "codemirror_mode": {
    "name": "ipython",
    "version": 3
   },
   "file_extension": ".py",
   "mimetype": "text/x-python",
   "name": "python",
   "nbconvert_exporter": "python",
   "pygments_lexer": "ipython3",
   "version": "3.12.2"
  }
 },
 "nbformat": 4,
 "nbformat_minor": 5
}
